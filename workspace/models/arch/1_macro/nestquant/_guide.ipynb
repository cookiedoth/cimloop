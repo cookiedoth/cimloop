{
 "cells": [
  {
   "cell_type": "code",
   "execution_count": 4,
   "metadata": {},
   "outputs": [
    {
     "data": {
      "text/markdown": [
       "\n",
       "This is an example digital architecture based on Eyeriss by Yu-Hsin Chen, Tushar\n",
       "Krishna, Joel Emer, and Vivienne Sze.\n",
       "\n",
       "Some of the important variables for nestquant:\n",
       "\n",
       "- *TECHNOLOGY*: 65 nm\n",
       "- *SUPPORTED_INPUT_BITS*: 8 bit(s)\n",
       "- *SUPPORTED_OUTPUT_BITS*: 16 bit(s)\n",
       "- *SUPPORTED_WEIGHT_BITS*: 8 bit(s)\n",
       "- *GLOBAL_CYCLE_SECONDS*: 1e-09 clock period\n",
       "\n",
       "Components are defined the following places:\n",
       "- workspace/models/arch/1_macro/example_traditional/example_components/components.csv\n",
       "- workspace/models/arch/1_macro/example_traditional/components.yaml\n",
       "- The top-level components locations\n",
       "  - workspace/models/components/components/*.yaml\n",
       "  - workspace/models/components/components/accelergy_plug_ins/*.py\n",
       "  \n",
       "Place new components in any of these places!\n",
       "\n"
      ],
      "text/plain": [
       "<IPython.core.display.Markdown object>"
      ]
     },
     "metadata": {},
     "output_type": "display_data"
    },
    {
     "data": {
      "image/svg+xml": [
       "<svg xmlns=\"http://www.w3.org/2000/svg\" xmlns:xlink=\"http://www.w3.org/1999/xlink\" version=\"1.1\" width=\"671.0pt\" viewBox=\"0 0 671.0 318.0\" height=\"318.0pt\">\n",
       "  <g transform=\"translate(0, 0) scale(0.5 0.5) \">\n",
       "    <g><g id=\"graph0\" class=\"graph\" transform=\"scale(1 1) rotate(0) translate(4 632.39)\">\n",
       "<title>G</title>\n",
       "<polygon fill=\"white\" stroke=\"transparent\" points=\"-4,4 -4,-632.39 1338,-632.39 1338,4 -4,4\"/>\n",
       "<g id=\"clust1\" class=\"cluster\">\n",
       "<title>cluster_macro</title>\n",
       "<polygon fill=\"#f0f0f0\" stroke=\"black\" points=\"8,-341 8,-478.38 172,-478.38 172,-341 8,-341\"/>\n",
       "<text text-anchor=\"middle\" x=\"90\" y=\"-461.58\" font-family=\"Times,serif\" font-size=\"16.00\">1x macro (1 total)</text>\n",
       "</g>\n",
       "<g id=\"clust2\" class=\"cluster\">\n",
       "<title>cluster_eyeriss</title>\n",
       "<polygon fill=\"#f0f0f0\" stroke=\"black\" points=\"180,-119 180,-476.44 545,-476.44 545,-119 180,-119\"/>\n",
       "<text text-anchor=\"middle\" x=\"362.5\" y=\"-459.64\" font-family=\"Times,serif\" font-size=\"16.00\">1x eyeriss (1 total)</text>\n",
       "</g>\n",
       "<g id=\"clust3\" class=\"cluster\">\n",
       "<title>cluster_PE_column cluster</title>\n",
       "</g>\n",
       "<g id=\"clust4\" class=\"cluster\">\n",
       "<title>cluster_PE_column</title>\n",
       "<polygon fill=\"#f0f0f0\" stroke=\"black\" points=\"553,-230 553,-476.44 843,-476.44 843,-230 553,-230\"/>\n",
       "<text text-anchor=\"middle\" x=\"698\" y=\"-459.64\" font-family=\"Times,serif\" font-size=\"16.00\">14x PE_column (14 total)</text>\n",
       "</g>\n",
       "<g id=\"clust5\" class=\"cluster\">\n",
       "<title>cluster_PE cluster</title>\n",
       "</g>\n",
       "<g id=\"clust6\" class=\"cluster\">\n",
       "<title>cluster_PE</title>\n",
       "<polygon fill=\"#f0f0f0\" stroke=\"black\" points=\"851,-8 851,-476.44 1326,-476.44 1326,-8 851,-8\"/>\n",
       "<text text-anchor=\"middle\" x=\"1088.5\" y=\"-459.64\" font-family=\"Times,serif\" font-size=\"16.00\">8x PE (112 total)</text>\n",
       "</g>\n",
       "<g id=\"clust7\" class=\"cluster\">\n",
       "<title>cluster_1bit_x_1bit_mac cluster</title>\n",
       "</g>\n",
       "<g id=\"clust8\" class=\"cluster\">\n",
       "<title>cluster_legend</title>\n",
       "<polygon fill=\"#f0f0f0\" stroke=\"black\" points=\"259,-495.38 259,-620.39 1324,-620.39 1324,-495.38 259,-495.38\"/>\n",
       "<text text-anchor=\"middle\" x=\"791.5\" y=\"-603.59\" font-family=\"Times,serif\" font-size=\"16.00\">Legend</text>\n",
       "</g>\n",
       "<g id=\"clust9\" class=\"cluster\">\n",
       "<title>cluster_Data Spaces</title>\n",
       "<polygon fill=\"#f0f0f0\" stroke=\"black\" points=\"678,-505.89 678,-583.89 1316,-583.89 1316,-505.89 678,-505.89\"/>\n",
       "<text text-anchor=\"middle\" x=\"997\" y=\"-567.09\" font-family=\"Times,serif\" font-size=\"16.00\">Data Spaces</text>\n",
       "</g>\n",
       "<g id=\"clust10\" class=\"cluster\">\n",
       "<title>cluster_Elements</title>\n",
       "<polygon fill=\"#f0f0f0\" stroke=\"black\" points=\"267,-503.38 267,-586.39 670,-586.39 670,-503.38 267,-503.38\"/>\n",
       "<text text-anchor=\"middle\" x=\"468.5\" y=\"-569.59\" font-family=\"Times,serif\" font-size=\"16.00\">Elements</text>\n",
       "</g>\n",
       "<!-- DRAM -->\n",
       "<g id=\"node1\" class=\"node\">\n",
       "<title>DRAM</title>\n",
       "<path fill=\"#fdeada\" stroke=\"black\" d=\"M164,-440.71C164,-442.7 151.9,-444.32 137,-444.32 122.1,-444.32 110,-442.7 110,-440.71 110,-440.71 110,-408.18 110,-408.18 110,-406.19 122.1,-404.57 137,-404.57 151.9,-404.57 164,-406.19 164,-408.18 164,-408.18 164,-440.71 164,-440.71\"/>\n",
       "<path fill=\"none\" stroke=\"black\" d=\"M164,-440.71C164,-438.71 151.9,-437.09 137,-437.09 122.1,-437.09 110,-438.71 110,-440.71\"/>\n",
       "<text text-anchor=\"middle\" x=\"137\" y=\"-420.74\" font-family=\"Times,serif\" font-size=\"14.00\">DRAM</text>\n",
       "</g>\n",
       "<!-- eyeriss -->\n",
       "<g id=\"node2\" class=\"node\">\n",
       "<title>eyeriss</title>\n",
       "<polygon fill=\"#ffffff\" stroke=\"black\" stroke-dasharray=\"5,2\" points=\"164,-385 114,-385 110,-381 110,-349 160,-349 164,-353 164,-385\"/>\n",
       "<polyline fill=\"none\" stroke=\"black\" stroke-dasharray=\"5,2\" points=\"160,-381 110,-381 \"/>\n",
       "<polyline fill=\"none\" stroke=\"black\" stroke-dasharray=\"5,2\" points=\"160,-381 160,-349 \"/>\n",
       "<polyline fill=\"none\" stroke=\"black\" stroke-dasharray=\"5,2\" points=\"160,-381 164,-385 \"/>\n",
       "<text text-anchor=\"middle\" x=\"137\" y=\"-363.3\" font-family=\"Times,serif\" font-size=\"14.00\">eyeriss</text>\n",
       "</g>\n",
       "<!-- DRAM&#45;&gt;eyeriss -->\n",
       "<g id=\"edge1\" class=\"edge\">\n",
       "<title>DRAM-&gt;eyeriss</title>\n",
       "<path fill=\"none\" stroke=\"red\" stroke-width=\"2\" d=\"M126.51,-394.35C126.51,-394.25 126.51,-394.15 126.52,-394.05\"/>\n",
       "<polygon fill=\"red\" stroke=\"red\" stroke-width=\"2\" points=\"123.02,-394.53 126.97,-404.36 130.01,-394.21 123.02,-394.53\"/>\n",
       "<polygon fill=\"red\" stroke=\"red\" stroke-width=\"2\" points=\"129.93,-395.32 127.22,-385.07 122.95,-394.77 129.93,-395.32\"/>\n",
       "</g>\n",
       "<!-- DRAM&#45;&gt;eyeriss -->\n",
       "<g id=\"edge2\" class=\"edge\">\n",
       "<title>DRAM-&gt;eyeriss</title>\n",
       "<path fill=\"none\" stroke=\"green\" stroke-width=\"2\" d=\"M137,-404.36C137,-401.43 137,-398.35 137,-395.27\"/>\n",
       "<polygon fill=\"green\" stroke=\"green\" stroke-width=\"2\" points=\"140.5,-395.07 137,-385.07 133.5,-395.07 140.5,-395.07\"/>\n",
       "</g>\n",
       "<!-- DRAM&#45;&gt;eyeriss -->\n",
       "<g id=\"edge3\" class=\"edge\">\n",
       "<title>DRAM-&gt;eyeriss</title>\n",
       "<path fill=\"none\" stroke=\"blue\" stroke-width=\"2\" d=\"M147.03,-404.36C147.36,-401.43 147.52,-398.35 147.5,-395.27\"/>\n",
       "<polygon fill=\"blue\" stroke=\"blue\" stroke-width=\"2\" points=\"150.97,-394.8 146.78,-385.07 143.99,-395.29 150.97,-394.8\"/>\n",
       "</g>\n",
       "<!-- From outside eyeriss... -->\n",
       "<g id=\"node3\" class=\"node\">\n",
       "<title>From outside eyeriss...</title>\n",
       "<polygon fill=\"#ffffff\" stroke=\"black\" points=\"354,-442.44 266,-442.44 266,-406.44 354,-406.44 354,-442.44\"/>\n",
       "<text text-anchor=\"middle\" x=\"310\" y=\"-420.74\" font-family=\"Times,serif\" font-size=\"14.00\">From macro</text>\n",
       "</g>\n",
       "<!-- shared_glb -->\n",
       "<g id=\"node4\" class=\"node\">\n",
       "<title>shared_glb</title>\n",
       "<path fill=\"#fdeada\" stroke=\"black\" d=\"M349.5,-383.26C349.5,-385.26 331.8,-386.88 310,-386.88 288.2,-386.88 270.5,-385.26 270.5,-383.26 270.5,-383.26 270.5,-350.74 270.5,-350.74 270.5,-348.74 288.2,-347.12 310,-347.12 331.8,-347.12 349.5,-348.74 349.5,-350.74 349.5,-350.74 349.5,-383.26 349.5,-383.26\"/>\n",
       "<path fill=\"none\" stroke=\"black\" d=\"M349.5,-383.26C349.5,-381.27 331.8,-379.65 310,-379.65 288.2,-379.65 270.5,-381.27 270.5,-383.26\"/>\n",
       "<text text-anchor=\"middle\" x=\"310\" y=\"-363.3\" font-family=\"Times,serif\" font-size=\"14.00\">shared_glb</text>\n",
       "</g>\n",
       "<!-- From outside eyeriss...&#45;&gt;shared_glb -->\n",
       "<g id=\"edge4\" class=\"edge\">\n",
       "<title>From outside eyeriss...-&gt;shared_glb</title>\n",
       "<path fill=\"none\" stroke=\"red\" stroke-width=\"2\" d=\"M299.5,-396.02C299.5,-395.93 299.5,-395.83 299.5,-395.74\"/>\n",
       "<polygon fill=\"red\" stroke=\"red\" stroke-width=\"2\" points=\"296.02,-396.47 300.2,-406.2 303.01,-395.99 296.02,-396.47\"/>\n",
       "<polygon fill=\"red\" stroke=\"red\" stroke-width=\"2\" points=\"302.93,-397.14 299.98,-386.96 295.94,-396.76 302.93,-397.14\"/>\n",
       "</g>\n",
       "<!-- From outside eyeriss...&#45;&gt;shared_glb -->\n",
       "<g id=\"edge5\" class=\"edge\">\n",
       "<title>From outside eyeriss...-&gt;shared_glb</title>\n",
       "<path fill=\"none\" stroke=\"green\" stroke-width=\"2\" d=\"M310,-406.2C310,-403.34 310,-400.31 310,-397.25\"/>\n",
       "<polygon fill=\"green\" stroke=\"green\" stroke-width=\"2\" points=\"313.5,-396.96 310,-386.96 306.5,-396.96 313.5,-396.96\"/>\n",
       "</g>\n",
       "<!-- From outside eyeriss...&#45;&gt;shared_glb -->\n",
       "<g id=\"edge6\" class=\"edge\">\n",
       "<title>From outside eyeriss...-&gt;shared_glb</title>\n",
       "<path fill=\"none\" stroke=\"blue\" stroke-width=\"2\" d=\"M319.8,-406.2C320.2,-403.34 320.43,-400.31 320.49,-397.25\"/>\n",
       "<polygon fill=\"blue\" stroke=\"blue\" stroke-width=\"2\" points=\"323.97,-396.8 320.02,-386.96 316.98,-397.11 323.97,-396.8\"/>\n",
       "</g>\n",
       "<!-- PE_column\\n14 unicast -->\n",
       "<g id=\"node9\" class=\"node\">\n",
       "<title>PE_column\\n14 unicast</title>\n",
       "<ellipse fill=\"#ffffff\" stroke=\"black\" cx=\"304\" cy=\"-268\" rx=\"60.62\" ry=\"20.51\"/>\n",
       "<text text-anchor=\"middle\" x=\"304\" y=\"-264.3\" font-family=\"Times,serif\" font-size=\"14.00\">Unicast x14</text>\n",
       "</g>\n",
       "<!-- shared_glb&#45;&gt;PE_column\\n14 unicast -->\n",
       "<g id=\"edge7\" class=\"edge\">\n",
       "<title>shared_glb-&gt;PE_column\\n14 unicast</title>\n",
       "<path fill=\"none\" stroke=\"red\" stroke-width=\"2\" d=\"M303.32,-336.7C302.08,-324.71 301.21,-310.85 300.96,-298.81\"/>\n",
       "<polygon fill=\"red\" stroke=\"red\" stroke-width=\"2\" points=\"299.87,-337.32 304.53,-346.84 306.82,-336.49 299.87,-337.32\"/>\n",
       "<polygon fill=\"red\" stroke=\"red\" stroke-width=\"2\" points=\"304.46,-298.77 300.9,-288.79 297.46,-298.81 304.46,-298.77\"/>\n",
       "</g>\n",
       "<!-- shared_glb&#45;&gt;PE_column\\n14 unicast -->\n",
       "<g id=\"edge12\" class=\"edge\">\n",
       "<title>shared_glb-&gt;PE_column\\n14 unicast</title>\n",
       "<path fill=\"none\" stroke=\"green\" stroke-width=\"2\" d=\"M313.1,-346.84C313.29,-333.11 312.33,-314.36 310.72,-298.7\"/>\n",
       "<polygon fill=\"green\" stroke=\"green\" stroke-width=\"2\" points=\"314.16,-297.98 309.51,-288.46 307.21,-298.8 314.16,-297.98\"/>\n",
       "</g>\n",
       "<!-- PE_column\\n14 multicast -->\n",
       "<g id=\"node10\" class=\"node\">\n",
       "<title>PE_column\\n14 multicast</title>\n",
       "<ellipse fill=\"#ffffff\" stroke=\"black\" cx=\"449\" cy=\"-268\" rx=\"70.01\" ry=\"20.51\"/>\n",
       "<text text-anchor=\"middle\" x=\"449\" y=\"-264.3\" font-family=\"Times,serif\" font-size=\"14.00\">Multicast x14</text>\n",
       "</g>\n",
       "<!-- shared_glb&#45;&gt;PE_column\\n14 multicast -->\n",
       "<g id=\"edge17\" class=\"edge\">\n",
       "<title>shared_glb-&gt;PE_column\\n14 multicast</title>\n",
       "<path fill=\"none\" stroke=\"blue\" stroke-width=\"2\" d=\"M337.57,-347.54C348.35,-340.26 360.79,-331.8 372,-324 386.27,-314.07 401.9,-302.95 415.33,-293.33\"/>\n",
       "<polygon fill=\"blue\" stroke=\"blue\" stroke-width=\"2\" points=\"417.72,-295.92 423.8,-287.24 413.63,-290.23 417.72,-295.92\"/>\n",
       "</g>\n",
       "<!-- PE_column\\n1 -->\n",
       "<g id=\"node5\" class=\"node\">\n",
       "<title>PE_column\\n1</title>\n",
       "<polygon fill=\"#ffffff\" stroke=\"black\" stroke-dasharray=\"5,2\" points=\"436.5,-179 361.5,-179 357.5,-175 357.5,-135 432.5,-135 436.5,-139 436.5,-179\"/>\n",
       "<polyline fill=\"none\" stroke=\"black\" stroke-dasharray=\"5,2\" points=\"432.5,-175 357.5,-175 \"/>\n",
       "<polyline fill=\"none\" stroke=\"black\" stroke-dasharray=\"5,2\" points=\"432.5,-175 432.5,-135 \"/>\n",
       "<polyline fill=\"none\" stroke=\"black\" stroke-dasharray=\"5,2\" points=\"432.5,-175 436.5,-179 \"/>\n",
       "<text text-anchor=\"middle\" x=\"397\" y=\"-160.8\" font-family=\"Times,serif\" font-size=\"14.00\">PE_column</text>\n",
       "<text text-anchor=\"middle\" x=\"397\" y=\"-145.8\" font-family=\"Times,serif\" font-size=\"14.00\">1</text>\n",
       "</g>\n",
       "<!-- PE_column\\n2 -->\n",
       "<g id=\"node6\" class=\"node\">\n",
       "<title>PE_column\\n2</title>\n",
       "<polygon fill=\"#ffffff\" stroke=\"black\" stroke-dasharray=\"5,2\" points=\"529.5,-179 454.5,-179 450.5,-175 450.5,-135 525.5,-135 529.5,-139 529.5,-179\"/>\n",
       "<polyline fill=\"none\" stroke=\"black\" stroke-dasharray=\"5,2\" points=\"525.5,-175 450.5,-175 \"/>\n",
       "<polyline fill=\"none\" stroke=\"black\" stroke-dasharray=\"5,2\" points=\"525.5,-175 525.5,-135 \"/>\n",
       "<polyline fill=\"none\" stroke=\"black\" stroke-dasharray=\"5,2\" points=\"525.5,-175 529.5,-179 \"/>\n",
       "<text text-anchor=\"middle\" x=\"490\" y=\"-160.8\" font-family=\"Times,serif\" font-size=\"14.00\">PE_column</text>\n",
       "<text text-anchor=\"middle\" x=\"490\" y=\"-145.8\" font-family=\"Times,serif\" font-size=\"14.00\">2</text>\n",
       "</g>\n",
       "<!-- PE_column\\n3... -->\n",
       "<g id=\"node7\" class=\"node\">\n",
       "<title>PE_column\\n3...</title>\n",
       "<polygon fill=\"#ffffff\" stroke=\"black\" stroke-dasharray=\"5,2\" points=\"250,-175 200,-175 196,-171 196,-139 246,-139 250,-143 250,-175\"/>\n",
       "<polyline fill=\"none\" stroke=\"black\" stroke-dasharray=\"5,2\" points=\"246,-171 196,-171 \"/>\n",
       "<polyline fill=\"none\" stroke=\"black\" stroke-dasharray=\"5,2\" points=\"246,-171 246,-139 \"/>\n",
       "<polyline fill=\"none\" stroke=\"black\" stroke-dasharray=\"5,2\" points=\"246,-171 250,-175 \"/>\n",
       "<text text-anchor=\"middle\" x=\"223\" y=\"-153.3\" font-family=\"Times,serif\" font-size=\"14.00\">...</text>\n",
       "</g>\n",
       "<!-- PE_column\\n14 -->\n",
       "<g id=\"node8\" class=\"node\">\n",
       "<title>PE_column\\n14</title>\n",
       "<polygon fill=\"#ffffff\" stroke=\"black\" stroke-dasharray=\"5,2\" points=\"343.5,-179 268.5,-179 264.5,-175 264.5,-135 339.5,-135 343.5,-139 343.5,-179\"/>\n",
       "<polyline fill=\"none\" stroke=\"black\" stroke-dasharray=\"5,2\" points=\"339.5,-175 264.5,-175 \"/>\n",
       "<polyline fill=\"none\" stroke=\"black\" stroke-dasharray=\"5,2\" points=\"339.5,-175 339.5,-135 \"/>\n",
       "<polyline fill=\"none\" stroke=\"black\" stroke-dasharray=\"5,2\" points=\"339.5,-175 343.5,-179 \"/>\n",
       "<text text-anchor=\"middle\" x=\"304\" y=\"-160.8\" font-family=\"Times,serif\" font-size=\"14.00\">PE_column</text>\n",
       "<text text-anchor=\"middle\" x=\"304\" y=\"-145.8\" font-family=\"Times,serif\" font-size=\"14.00\">14</text>\n",
       "</g>\n",
       "<!-- PE_column\\n14 unicast&#45;&gt;PE_column\\n1 -->\n",
       "<g id=\"edge8\" class=\"edge\">\n",
       "<title>PE_column\\n14 unicast-&gt;PE_column\\n1</title>\n",
       "<path fill=\"none\" stroke=\"red\" stroke-width=\"2\" d=\"M299.99,-237.14C301.64,-231.13 304.52,-225.34 309,-221 320.45,-209.89 330.39,-221.33 344,-213 354.62,-206.5 363.96,-196.68 371.82,-187.14\"/>\n",
       "<polygon fill=\"red\" stroke=\"red\" stroke-width=\"2\" points=\"296.5,-236.78 298.29,-247.22 303.4,-237.94 296.5,-236.78\"/>\n",
       "<polygon fill=\"red\" stroke=\"red\" stroke-width=\"2\" points=\"374.59,-189.27 378.07,-179.26 369.11,-184.92 374.59,-189.27\"/>\n",
       "</g>\n",
       "<!-- PE_column\\n14 unicast&#45;&gt;PE_column\\n1 -->\n",
       "<g id=\"edge13\" class=\"edge\">\n",
       "<title>PE_column\\n14 unicast-&gt;PE_column\\n1</title>\n",
       "<path fill=\"none\" stroke=\"green\" stroke-width=\"2\" d=\"M310.92,-247.22C312.91,-238.08 316.01,-227.78 323,-221 334.45,-209.89 344.39,-221.33 358,-213 368.4,-206.63 377.58,-197.08 384.56,-187.71\"/>\n",
       "<polygon fill=\"green\" stroke=\"green\" stroke-width=\"2\" points=\"387.58,-189.49 390.32,-179.26 381.79,-185.55 387.58,-189.49\"/>\n",
       "</g>\n",
       "<!-- PE_column\\n14 unicast&#45;&gt;PE_column\\n2 -->\n",
       "<g id=\"edge9\" class=\"edge\">\n",
       "<title>PE_column\\n14 unicast-&gt;PE_column\\n2</title>\n",
       "<path fill=\"none\" stroke=\"red\" stroke-width=\"2\" d=\"M335.64,-243.78C344.87,-238.73 355.11,-233.78 365,-230 395.71,-218.26 409.02,-230.27 437,-213 447.59,-206.46 456.93,-196.64 464.79,-187.1\"/>\n",
       "<polygon fill=\"red\" stroke=\"red\" stroke-width=\"2\" points=\"333.75,-240.83 326.79,-248.83 337.21,-246.92 333.75,-240.83\"/>\n",
       "<polygon fill=\"red\" stroke=\"red\" stroke-width=\"2\" points=\"467.56,-189.23 471.04,-179.22 462.08,-184.88 467.56,-189.23\"/>\n",
       "</g>\n",
       "<!-- PE_column\\n14 unicast&#45;&gt;PE_column\\n2 -->\n",
       "<g id=\"edge14\" class=\"edge\">\n",
       "<title>PE_column\\n14 unicast-&gt;PE_column\\n2</title>\n",
       "<path fill=\"none\" stroke=\"green\" stroke-width=\"2\" d=\"M336.73,-250.53C349.64,-243.41 364.69,-235.47 379,-230 409.71,-218.26 423.02,-230.27 451,-213 461.38,-206.59 470.55,-197.03 477.53,-187.67\"/>\n",
       "<polygon fill=\"green\" stroke=\"green\" stroke-width=\"2\" points=\"480.55,-189.46 483.29,-179.22 474.77,-185.51 480.55,-189.46\"/>\n",
       "</g>\n",
       "<!-- PE_column\\n14 unicast&#45;&gt;PE_column\\n3... -->\n",
       "<g id=\"edge10\" class=\"edge\">\n",
       "<title>PE_column\\n14 unicast-&gt;PE_column\\n3...</title>\n",
       "<path fill=\"none\" stroke=\"red\" stroke-width=\"2\" d=\"M274.13,-241.2C266.23,-232.46 258.02,-222.5 251,-213 244.24,-203.85 237.4,-193.41 232,-184.1\"/>\n",
       "<polygon fill=\"red\" stroke=\"red\" stroke-width=\"2\" points=\"271.58,-243.6 280.95,-248.53 276.7,-238.83 271.58,-243.6\"/>\n",
       "<polygon fill=\"red\" stroke=\"red\" stroke-width=\"2\" points=\"235.02,-182.33 227.14,-175.26 228.89,-185.71 235.02,-182.33\"/>\n",
       "</g>\n",
       "<!-- PE_column\\n14 unicast&#45;&gt;PE_column\\n3... -->\n",
       "<g id=\"edge15\" class=\"edge\">\n",
       "<title>PE_column\\n14 unicast-&gt;PE_column\\n3...</title>\n",
       "<path fill=\"none\" stroke=\"green\" stroke-width=\"2\" d=\"M292.56,-247.54C284.44,-237.5 273.78,-224.89 265,-213 258.17,-203.76 251.25,-193.19 244.95,-183.81\"/>\n",
       "<polygon fill=\"green\" stroke=\"green\" stroke-width=\"2\" points=\"247.65,-181.55 239.13,-175.26 241.87,-185.49 247.65,-181.55\"/>\n",
       "</g>\n",
       "<!-- PE_column\\n14 unicast&#45;&gt;PE_column\\n14 -->\n",
       "<g id=\"edge11\" class=\"edge\">\n",
       "<title>PE_column\\n14 unicast-&gt;PE_column\\n14</title>\n",
       "<path fill=\"none\" stroke=\"red\" stroke-width=\"2\" d=\"M299.27,-237.32C298.61,-222.52 298.58,-204.61 299.19,-189.55\"/>\n",
       "<polygon fill=\"red\" stroke=\"red\" stroke-width=\"2\" points=\"295.79,-237.74 299.87,-247.51 302.77,-237.33 295.79,-237.74\"/>\n",
       "<polygon fill=\"red\" stroke=\"red\" stroke-width=\"2\" points=\"302.7,-189.35 299.74,-179.18 295.71,-188.98 302.7,-189.35\"/>\n",
       "</g>\n",
       "<!-- PE_column\\n14 unicast&#45;&gt;PE_column\\n14 -->\n",
       "<g id=\"edge16\" class=\"edge\">\n",
       "<title>PE_column\\n14 unicast-&gt;PE_column\\n14</title>\n",
       "<path fill=\"none\" stroke=\"green\" stroke-width=\"2\" d=\"M308.13,-247.51C309.35,-231.36 309.57,-208.1 308.8,-189.34\"/>\n",
       "<polygon fill=\"green\" stroke=\"green\" stroke-width=\"2\" points=\"312.29,-188.98 308.26,-179.18 305.3,-189.35 312.29,-188.98\"/>\n",
       "</g>\n",
       "<!-- PE_column\\n14 multicast&#45;&gt;PE_column\\n1 -->\n",
       "<g id=\"edge18\" class=\"edge\">\n",
       "<title>PE_column\\n14 multicast-&gt;PE_column\\n1</title>\n",
       "<path fill=\"none\" stroke=\"blue\" stroke-width=\"2\" d=\"M439.7,-247.51C431.86,-231.06 420.49,-207.24 411.45,-188.3\"/>\n",
       "<polygon fill=\"blue\" stroke=\"blue\" stroke-width=\"2\" points=\"414.57,-186.7 407.1,-179.18 408.25,-189.71 414.57,-186.7\"/>\n",
       "</g>\n",
       "<!-- PE_column\\n14 multicast&#45;&gt;PE_column\\n2 -->\n",
       "<g id=\"edge19\" class=\"edge\">\n",
       "<title>PE_column\\n14 multicast-&gt;PE_column\\n2</title>\n",
       "<path fill=\"none\" stroke=\"blue\" stroke-width=\"2\" d=\"M456.33,-247.51C462.49,-231.14 471.4,-207.45 478.51,-188.56\"/>\n",
       "<polygon fill=\"blue\" stroke=\"blue\" stroke-width=\"2\" points=\"481.79,-189.77 482.03,-179.18 475.24,-187.31 481.79,-189.77\"/>\n",
       "</g>\n",
       "<!-- PE_column\\n14 multicast&#45;&gt;PE_column\\n3... -->\n",
       "<g id=\"edge20\" class=\"edge\">\n",
       "<title>PE_column\\n14 multicast-&gt;PE_column\\n3...</title>\n",
       "<path fill=\"none\" stroke=\"blue\" stroke-width=\"2\" d=\"M418.02,-249.49C404.3,-242.43 387.74,-234.83 372,-230 323.03,-214.96 300.96,-240.9 258,-213 247.36,-206.09 239.32,-194.67 233.65,-184.03\"/>\n",
       "<polygon fill=\"blue\" stroke=\"blue\" stroke-width=\"2\" points=\"236.79,-182.48 229.27,-175.01 230.49,-185.54 236.79,-182.48\"/>\n",
       "</g>\n",
       "<!-- PE_column\\n14 multicast&#45;&gt;PE_column\\n14 -->\n",
       "<g id=\"edge21\" class=\"edge\">\n",
       "<title>PE_column\\n14 multicast-&gt;PE_column\\n14</title>\n",
       "<path fill=\"none\" stroke=\"blue\" stroke-width=\"2\" d=\"M411.66,-250.41C392.49,-240.93 369.37,-227.97 351,-213 341.83,-205.53 333.05,-196.11 325.61,-187.19\"/>\n",
       "<polygon fill=\"blue\" stroke=\"blue\" stroke-width=\"2\" points=\"328.18,-184.8 319.18,-179.21 322.72,-189.19 328.18,-184.8\"/>\n",
       "</g>\n",
       "<!-- From outside PE_column... -->\n",
       "<g id=\"node11\" class=\"node\">\n",
       "<title>From outside PE_column...</title>\n",
       "<polygon fill=\"#ffffff\" stroke=\"black\" points=\"711,-442.44 617,-442.44 617,-406.44 711,-406.44 711,-442.44\"/>\n",
       "<text text-anchor=\"middle\" x=\"664\" y=\"-420.74\" font-family=\"Times,serif\" font-size=\"14.00\">From eyeriss</text>\n",
       "</g>\n",
       "<!-- PE\\n8 multicast -->\n",
       "<g id=\"node16\" class=\"node\">\n",
       "<title>PE\\n8 multicast</title>\n",
       "<ellipse fill=\"#ffffff\" stroke=\"black\" cx=\"664\" cy=\"-367\" rx=\"63.78\" ry=\"20.51\"/>\n",
       "<text text-anchor=\"middle\" x=\"664\" y=\"-363.3\" font-family=\"Times,serif\" font-size=\"14.00\">Multicast x8</text>\n",
       "</g>\n",
       "<!-- From outside PE_column...&#45;&gt;PE\\n8 multicast -->\n",
       "<g id=\"edge22\" class=\"edge\">\n",
       "<title>From outside PE_column...-&gt;PE\\n8 multicast</title>\n",
       "<path fill=\"none\" stroke=\"red\" stroke-width=\"2\" d=\"M653.5,-395.94C653.5,-395.85 653.5,-395.76 653.5,-395.67\"/>\n",
       "<polygon fill=\"red\" stroke=\"red\" stroke-width=\"2\" points=\"650.03,-396.47 654.2,-406.2 657.01,-395.99 650.03,-396.47\"/>\n",
       "<polygon fill=\"red\" stroke=\"red\" stroke-width=\"2\" points=\"656.91,-397.53 653.94,-387.35 649.92,-397.16 656.91,-397.53\"/>\n",
       "</g>\n",
       "<!-- From outside PE_column...&#45;&gt;PE\\n8 multicast -->\n",
       "<g id=\"edge27\" class=\"edge\">\n",
       "<title>From outside PE_column...-&gt;PE\\n8 multicast</title>\n",
       "<path fill=\"none\" stroke=\"green\" stroke-width=\"2\" d=\"M664,-406.2C664,-403.55 664,-400.75 664,-397.92\"/>\n",
       "<polygon fill=\"green\" stroke=\"green\" stroke-width=\"2\" points=\"667.5,-397.75 664,-387.75 660.5,-397.75 667.5,-397.75\"/>\n",
       "</g>\n",
       "<!-- From outside PE_column...&#45;&gt;PE\\n8 multicast -->\n",
       "<g id=\"edge32\" class=\"edge\">\n",
       "<title>From outside PE_column...-&gt;PE\\n8 multicast</title>\n",
       "<path fill=\"none\" stroke=\"blue\" stroke-width=\"2\" d=\"M673.8,-406.2C674.19,-403.4 674.42,-400.43 674.48,-397.44\"/>\n",
       "<polygon fill=\"blue\" stroke=\"blue\" stroke-width=\"2\" points=\"677.98,-397.2 674.06,-387.35 670.98,-397.49 677.98,-397.2\"/>\n",
       "</g>\n",
       "<!-- PE\\n1 -->\n",
       "<g id=\"node12\" class=\"node\">\n",
       "<title>PE\\n1</title>\n",
       "<polygon fill=\"#ffffff\" stroke=\"black\" stroke-dasharray=\"5,2\" points=\"759,-290 709,-290 705,-286 705,-246 755,-246 759,-250 759,-290\"/>\n",
       "<polyline fill=\"none\" stroke=\"black\" stroke-dasharray=\"5,2\" points=\"755,-286 705,-286 \"/>\n",
       "<polyline fill=\"none\" stroke=\"black\" stroke-dasharray=\"5,2\" points=\"755,-286 755,-246 \"/>\n",
       "<polyline fill=\"none\" stroke=\"black\" stroke-dasharray=\"5,2\" points=\"755,-286 759,-290 \"/>\n",
       "<text text-anchor=\"middle\" x=\"732\" y=\"-271.8\" font-family=\"Times,serif\" font-size=\"14.00\">PE</text>\n",
       "<text text-anchor=\"middle\" x=\"732\" y=\"-256.8\" font-family=\"Times,serif\" font-size=\"14.00\">1</text>\n",
       "</g>\n",
       "<!-- PE\\n2 -->\n",
       "<g id=\"node13\" class=\"node\">\n",
       "<title>PE\\n2</title>\n",
       "<polygon fill=\"#ffffff\" stroke=\"black\" stroke-dasharray=\"5,2\" points=\"827,-290 777,-290 773,-286 773,-246 823,-246 827,-250 827,-290\"/>\n",
       "<polyline fill=\"none\" stroke=\"black\" stroke-dasharray=\"5,2\" points=\"823,-286 773,-286 \"/>\n",
       "<polyline fill=\"none\" stroke=\"black\" stroke-dasharray=\"5,2\" points=\"823,-286 823,-246 \"/>\n",
       "<polyline fill=\"none\" stroke=\"black\" stroke-dasharray=\"5,2\" points=\"823,-286 827,-290 \"/>\n",
       "<text text-anchor=\"middle\" x=\"800\" y=\"-271.8\" font-family=\"Times,serif\" font-size=\"14.00\">PE</text>\n",
       "<text text-anchor=\"middle\" x=\"800\" y=\"-256.8\" font-family=\"Times,serif\" font-size=\"14.00\">2</text>\n",
       "</g>\n",
       "<!-- PE\\n3... -->\n",
       "<g id=\"node14\" class=\"node\">\n",
       "<title>PE\\n3...</title>\n",
       "<polygon fill=\"#ffffff\" stroke=\"black\" stroke-dasharray=\"5,2\" points=\"623,-286 573,-286 569,-282 569,-250 619,-250 623,-254 623,-286\"/>\n",
       "<polyline fill=\"none\" stroke=\"black\" stroke-dasharray=\"5,2\" points=\"619,-282 569,-282 \"/>\n",
       "<polyline fill=\"none\" stroke=\"black\" stroke-dasharray=\"5,2\" points=\"619,-282 619,-250 \"/>\n",
       "<polyline fill=\"none\" stroke=\"black\" stroke-dasharray=\"5,2\" points=\"619,-282 623,-286 \"/>\n",
       "<text text-anchor=\"middle\" x=\"596\" y=\"-264.3\" font-family=\"Times,serif\" font-size=\"14.00\">...</text>\n",
       "</g>\n",
       "<!-- PE\\n8 -->\n",
       "<g id=\"node15\" class=\"node\">\n",
       "<title>PE\\n8</title>\n",
       "<polygon fill=\"#ffffff\" stroke=\"black\" stroke-dasharray=\"5,2\" points=\"691,-290 641,-290 637,-286 637,-246 687,-246 691,-250 691,-290\"/>\n",
       "<polyline fill=\"none\" stroke=\"black\" stroke-dasharray=\"5,2\" points=\"687,-286 637,-286 \"/>\n",
       "<polyline fill=\"none\" stroke=\"black\" stroke-dasharray=\"5,2\" points=\"687,-286 687,-246 \"/>\n",
       "<polyline fill=\"none\" stroke=\"black\" stroke-dasharray=\"5,2\" points=\"687,-286 691,-290 \"/>\n",
       "<text text-anchor=\"middle\" x=\"664\" y=\"-271.8\" font-family=\"Times,serif\" font-size=\"14.00\">PE</text>\n",
       "<text text-anchor=\"middle\" x=\"664\" y=\"-256.8\" font-family=\"Times,serif\" font-size=\"14.00\">8</text>\n",
       "</g>\n",
       "<!-- PE\\n8 multicast&#45;&gt;PE\\n1 -->\n",
       "<g id=\"edge23\" class=\"edge\">\n",
       "<title>PE\\n8 multicast-&gt;PE\\n1</title>\n",
       "<path fill=\"none\" stroke=\"red\" stroke-width=\"2\" d=\"M658.1,-337.01C659.21,-335.2 660.51,-333.5 662,-332 669.32,-324.61 675.93,-330.57 684,-324 692.31,-317.24 699.16,-307.87 705.19,-298.77\"/>\n",
       "<polygon fill=\"red\" stroke=\"red\" stroke-width=\"2\" points=\"654.69,-336.12 654.2,-346.7 661.18,-338.73 654.69,-336.12\"/>\n",
       "<polygon fill=\"red\" stroke=\"red\" stroke-width=\"2\" points=\"708.23,-300.53 710.76,-290.24 702.37,-296.71 708.23,-300.53\"/>\n",
       "</g>\n",
       "<!-- PE\\n8 multicast&#45;&gt;PE\\n1 -->\n",
       "<g id=\"edge28\" class=\"edge\">\n",
       "<title>PE\\n8 multicast-&gt;PE\\n1</title>\n",
       "<path fill=\"none\" stroke=\"green\" stroke-width=\"2\" d=\"M667.71,-346.35C669.49,-341.15 672.12,-335.91 676,-332 683.32,-324.61 689.93,-330.57 698,-324 706.23,-317.31 713.02,-308.06 718.3,-299.06\"/>\n",
       "<polygon fill=\"green\" stroke=\"green\" stroke-width=\"2\" points=\"721.4,-300.7 723.09,-290.24 715.24,-297.36 721.4,-300.7\"/>\n",
       "</g>\n",
       "<!-- PE\\n8 multicast&#45;&gt;PE\\n1 -->\n",
       "<g id=\"edge33\" class=\"edge\">\n",
       "<title>PE\\n8 multicast-&gt;PE\\n1</title>\n",
       "<path fill=\"none\" stroke=\"blue\" stroke-width=\"2\" d=\"M680.82,-347.05C683.26,-341.63 685.95,-336.09 690,-332 697.32,-324.61 703.93,-330.57 712,-324 720.06,-317.44 726.73,-308.44 731.31,-299.62\"/>\n",
       "<polygon fill=\"blue\" stroke=\"blue\" stroke-width=\"2\" points=\"734.61,-300.8 735.42,-290.24 728.2,-297.99 734.61,-300.8\"/>\n",
       "</g>\n",
       "<!-- PE\\n8 multicast&#45;&gt;PE\\n2 -->\n",
       "<g id=\"edge24\" class=\"edge\">\n",
       "<title>PE\\n8 multicast-&gt;PE\\n2</title>\n",
       "<path fill=\"none\" stroke=\"red\" stroke-width=\"2\" d=\"M714.05,-346.98C727.25,-341.04 740.84,-333.47 752,-324 760.17,-317.06 766.98,-307.65 773.03,-298.57\"/>\n",
       "<polygon fill=\"red\" stroke=\"red\" stroke-width=\"2\" points=\"712.37,-343.89 704.54,-351.03 715.12,-350.33 712.37,-343.89\"/>\n",
       "<polygon fill=\"red\" stroke=\"red\" stroke-width=\"2\" points=\"776.05,-300.34 778.61,-290.06 770.2,-296.5 776.05,-300.34\"/>\n",
       "</g>\n",
       "<!-- PE\\n8 multicast&#45;&gt;PE\\n2 -->\n",
       "<g id=\"edge29\" class=\"edge\">\n",
       "<title>PE\\n8 multicast-&gt;PE\\n2</title>\n",
       "<path fill=\"none\" stroke=\"green\" stroke-width=\"2\" d=\"M711.56,-353.36C730,-346.77 750.38,-337.26 766,-324 774.09,-317.13 780.84,-307.84 786.13,-298.85\"/>\n",
       "<polygon fill=\"green\" stroke=\"green\" stroke-width=\"2\" points=\"789.21,-300.52 790.94,-290.06 783.07,-297.16 789.21,-300.52\"/>\n",
       "</g>\n",
       "<!-- PE\\n8 multicast&#45;&gt;PE\\n2 -->\n",
       "<g id=\"edge34\" class=\"edge\">\n",
       "<title>PE\\n8 multicast-&gt;PE\\n2</title>\n",
       "<path fill=\"none\" stroke=\"blue\" stroke-width=\"2\" d=\"M717.23,-355.71C738.78,-349.12 762.41,-338.93 780,-324 787.92,-317.28 794.56,-308.23 799.14,-299.41\"/>\n",
       "<polygon fill=\"blue\" stroke=\"blue\" stroke-width=\"2\" points=\"802.43,-300.62 803.27,-290.06 796.03,-297.79 802.43,-300.62\"/>\n",
       "</g>\n",
       "<!-- PE\\n8 multicast&#45;&gt;PE\\n3... -->\n",
       "<g id=\"edge25\" class=\"edge\">\n",
       "<title>PE\\n8 multicast-&gt;PE\\n3...</title>\n",
       "<path fill=\"none\" stroke=\"red\" stroke-width=\"2\" d=\"M629.03,-340.76C624.38,-335.33 619.94,-329.55 616,-324 609.54,-314.89 602.97,-304.56 598.17,-295.33\"/>\n",
       "<polygon fill=\"red\" stroke=\"red\" stroke-width=\"2\" points=\"626.66,-343.36 635.98,-348.4 631.84,-338.65 626.66,-343.36\"/>\n",
       "<polygon fill=\"red\" stroke=\"red\" stroke-width=\"2\" points=\"601.3,-293.77 593.88,-286.21 594.96,-296.75 601.3,-293.77\"/>\n",
       "</g>\n",
       "<!-- PE\\n8 multicast&#45;&gt;PE\\n3... -->\n",
       "<g id=\"edge30\" class=\"edge\">\n",
       "<title>PE\\n8 multicast-&gt;PE\\n3...</title>\n",
       "<path fill=\"none\" stroke=\"green\" stroke-width=\"2\" d=\"M647.56,-346.74C641.8,-339.73 635.43,-331.65 630,-324 623.47,-314.8 616.83,-304.35 611.17,-295.04\"/>\n",
       "<polygon fill=\"green\" stroke=\"green\" stroke-width=\"2\" points=\"614.02,-292.99 605.87,-286.21 608.01,-296.59 614.02,-292.99\"/>\n",
       "</g>\n",
       "<!-- PE\\n8 multicast&#45;&gt;PE\\n3... -->\n",
       "<g id=\"edge35\" class=\"edge\">\n",
       "<title>PE\\n8 multicast-&gt;PE\\n3...</title>\n",
       "<path fill=\"none\" stroke=\"blue\" stroke-width=\"2\" d=\"M660.43,-346.32C655.55,-339.41 649.32,-331.5 644,-324 637.34,-314.61 630.55,-303.91 623.91,-294.46\"/>\n",
       "<polygon fill=\"blue\" stroke=\"blue\" stroke-width=\"2\" points=\"626.6,-292.21 617.87,-286.21 620.95,-296.34 626.6,-292.21\"/>\n",
       "</g>\n",
       "<!-- PE\\n8 multicast&#45;&gt;PE\\n8 -->\n",
       "<g id=\"edge26\" class=\"edge\">\n",
       "<title>PE\\n8 multicast-&gt;PE\\n8</title>\n",
       "<path fill=\"none\" stroke=\"red\" stroke-width=\"2\" d=\"M654.22,-336.15C653.3,-324.79 653.26,-311.83 654.11,-300.33\"/>\n",
       "<polygon fill=\"red\" stroke=\"red\" stroke-width=\"2\" points=\"650.78,-336.82 655.37,-346.37 657.73,-336.04 650.78,-336.82\"/>\n",
       "<polygon fill=\"red\" stroke=\"red\" stroke-width=\"2\" points=\"657.6,-300.59 655.13,-290.28 650.64,-299.88 657.6,-300.59\"/>\n",
       "</g>\n",
       "<!-- PE\\n8 multicast&#45;&gt;PE\\n8 -->\n",
       "<g id=\"edge31\" class=\"edge\">\n",
       "<title>PE\\n8 multicast-&gt;PE\\n8</title>\n",
       "<path fill=\"none\" stroke=\"green\" stroke-width=\"2\" d=\"M664,-346.37C664,-333.27 664,-315.76 664,-300.71\"/>\n",
       "<polygon fill=\"green\" stroke=\"green\" stroke-width=\"2\" points=\"667.5,-300.28 664,-290.28 660.5,-300.28 667.5,-300.28\"/>\n",
       "</g>\n",
       "<!-- PE\\n8 multicast&#45;&gt;PE\\n8 -->\n",
       "<g id=\"edge36\" class=\"edge\">\n",
       "<title>PE\\n8 multicast-&gt;PE\\n8</title>\n",
       "<path fill=\"none\" stroke=\"blue\" stroke-width=\"2\" d=\"M672.63,-346.37C674.59,-333.15 675.01,-315.42 673.89,-300.27\"/>\n",
       "<polygon fill=\"blue\" stroke=\"blue\" stroke-width=\"2\" points=\"677.37,-299.87 672.87,-290.28 670.4,-300.59 677.37,-299.87\"/>\n",
       "</g>\n",
       "<!-- From outside PE... -->\n",
       "<g id=\"node17\" class=\"node\">\n",
       "<title>From outside PE...</title>\n",
       "<polygon fill=\"#ffffff\" stroke=\"black\" points=\"1000,-442.44 878,-442.44 878,-406.44 1000,-406.44 1000,-442.44\"/>\n",
       "<text text-anchor=\"middle\" x=\"939\" y=\"-420.74\" font-family=\"Times,serif\" font-size=\"14.00\">From PE_column</text>\n",
       "</g>\n",
       "<!-- weight_quantize -->\n",
       "<g id=\"node18\" class=\"node\">\n",
       "<title>weight_quantize</title>\n",
       "<polygon fill=\"#fdeada\" stroke=\"black\" points=\"1186,-385 1072,-385 1068,-381 1068,-349 1182,-349 1186,-353 1186,-385\"/>\n",
       "<polyline fill=\"none\" stroke=\"black\" points=\"1182,-381 1068,-381 \"/>\n",
       "<polyline fill=\"none\" stroke=\"black\" points=\"1182,-381 1182,-349 \"/>\n",
       "<polyline fill=\"none\" stroke=\"black\" points=\"1182,-381 1186,-385 \"/>\n",
       "<text text-anchor=\"middle\" x=\"1127\" y=\"-363.3\" font-family=\"Times,serif\" font-size=\"14.00\">weight_quantize</text>\n",
       "</g>\n",
       "<!-- From outside PE...&#45;&gt;weight_quantize -->\n",
       "<g id=\"edge37\" class=\"edge\">\n",
       "<title>From outside PE...-&gt;weight_quantize</title>\n",
       "<path fill=\"none\" stroke=\"green\" stroke-width=\"2\" d=\"M997.03,-406.36C1014.98,-401.08 1034.99,-395.18 1059.7,-387.89\"/>\n",
       "<polygon fill=\"green\" stroke=\"green\" stroke-width=\"2\" points=\"1060.81,-391.21 1069.41,-385.02 1058.83,-384.5 1060.81,-391.21\"/>\n",
       "</g>\n",
       "<!-- ifmap_spad -->\n",
       "<g id=\"node19\" class=\"node\">\n",
       "<title>ifmap_spad</title>\n",
       "<path fill=\"#fdeada\" stroke=\"black\" d=\"M960,-383.26C960,-385.26 941.62,-386.88 919,-386.88 896.38,-386.88 878,-385.26 878,-383.26 878,-383.26 878,-350.74 878,-350.74 878,-348.74 896.38,-347.12 919,-347.12 941.62,-347.12 960,-348.74 960,-350.74 960,-350.74 960,-383.26 960,-383.26\"/>\n",
       "<path fill=\"none\" stroke=\"black\" d=\"M960,-383.26C960,-381.27 941.62,-379.65 919,-379.65 896.38,-379.65 878,-381.27 878,-383.26\"/>\n",
       "<text text-anchor=\"middle\" x=\"919\" y=\"-363.3\" font-family=\"Times,serif\" font-size=\"14.00\">ifmap_spad</text>\n",
       "</g>\n",
       "<!-- From outside PE...&#45;&gt;ifmap_spad -->\n",
       "<g id=\"edge38\" class=\"edge\">\n",
       "<title>From outside PE...-&gt;ifmap_spad</title>\n",
       "<path fill=\"none\" stroke=\"blue\" stroke-width=\"2\" d=\"M932.78,-406.2C931.68,-403.15 930.51,-399.9 929.33,-396.64\"/>\n",
       "<polygon fill=\"blue\" stroke=\"blue\" stroke-width=\"2\" points=\"932.53,-395.18 925.84,-386.96 925.94,-397.56 932.53,-395.18\"/>\n",
       "</g>\n",
       "<!-- psum_spad -->\n",
       "<g id=\"node21\" class=\"node\">\n",
       "<title>psum_spad</title>\n",
       "<path fill=\"#fdeada\" stroke=\"black\" d=\"M1054,-383.26C1054,-385.26 1036.07,-386.88 1014,-386.88 991.93,-386.88 974,-385.26 974,-383.26 974,-383.26 974,-350.74 974,-350.74 974,-348.74 991.93,-347.12 1014,-347.12 1036.07,-347.12 1054,-348.74 1054,-350.74 1054,-350.74 1054,-383.26 1054,-383.26\"/>\n",
       "<path fill=\"none\" stroke=\"black\" d=\"M1054,-383.26C1054,-381.27 1036.07,-379.65 1014,-379.65 991.93,-379.65 974,-381.27 974,-383.26\"/>\n",
       "<text text-anchor=\"middle\" x=\"1014\" y=\"-363.3\" font-family=\"Times,serif\" font-size=\"14.00\">psum_spad</text>\n",
       "</g>\n",
       "<!-- From outside PE...&#45;&gt;psum_spad -->\n",
       "<g id=\"edge40\" class=\"edge\">\n",
       "<title>From outside PE...-&gt;psum_spad</title>\n",
       "<path fill=\"none\" stroke=\"red\" stroke-width=\"2\" d=\"M970.4,-400.23C973.72,-397.78 977.11,-395.27 980.45,-392.8\"/>\n",
       "<polygon fill=\"red\" stroke=\"red\" stroke-width=\"2\" points=\"968.28,-397.45 962.32,-406.2 972.44,-403.07 968.28,-397.45\"/>\n",
       "<polygon fill=\"red\" stroke=\"red\" stroke-width=\"2\" points=\"982.65,-395.53 988.61,-386.77 978.49,-389.9 982.65,-395.53\"/>\n",
       "</g>\n",
       "<!-- weights_spad -->\n",
       "<g id=\"node20\" class=\"node\">\n",
       "<title>weights_spad</title>\n",
       "<path fill=\"#fdeada\" stroke=\"black\" d=\"M1156.5,-284.26C1156.5,-286.26 1134.76,-287.88 1108,-287.88 1081.24,-287.88 1059.5,-286.26 1059.5,-284.26 1059.5,-284.26 1059.5,-251.74 1059.5,-251.74 1059.5,-249.74 1081.24,-248.12 1108,-248.12 1134.76,-248.12 1156.5,-249.74 1156.5,-251.74 1156.5,-251.74 1156.5,-284.26 1156.5,-284.26\"/>\n",
       "<path fill=\"none\" stroke=\"black\" d=\"M1156.5,-284.26C1156.5,-282.27 1134.76,-280.65 1108,-280.65 1081.24,-280.65 1059.5,-282.27 1059.5,-284.26\"/>\n",
       "<text text-anchor=\"middle\" x=\"1108\" y=\"-264.3\" font-family=\"Times,serif\" font-size=\"14.00\">weights_spad</text>\n",
       "</g>\n",
       "<!-- weight_quantize&#45;&gt;weights_spad -->\n",
       "<g id=\"edge39\" class=\"edge\">\n",
       "<title>weight_quantize-&gt;weights_spad</title>\n",
       "<path fill=\"none\" stroke=\"green\" stroke-width=\"2\" d=\"M1123.6,-348.66C1120.87,-334.71 1116.97,-314.8 1113.75,-298.38\"/>\n",
       "<polygon fill=\"green\" stroke=\"green\" stroke-width=\"2\" points=\"1117.12,-297.33 1111.76,-288.19 1110.25,-298.67 1117.12,-297.33\"/>\n",
       "</g>\n",
       "<!-- 1bit_x_1bit_mac\\n256 multicast -->\n",
       "<g id=\"node26\" class=\"node\">\n",
       "<title>1bit_x_1bit_mac\\n256 multicast</title>\n",
       "<ellipse fill=\"#ffffff\" stroke=\"black\" cx=\"1054\" cy=\"-157\" rx=\"76.24\" ry=\"20.51\"/>\n",
       "<text text-anchor=\"middle\" x=\"1054\" y=\"-153.3\" font-family=\"Times,serif\" font-size=\"14.00\">Multicast x256</text>\n",
       "</g>\n",
       "<!-- ifmap_spad&#45;&gt;1bit_x_1bit_mac\\n256 multicast -->\n",
       "<g id=\"edge51\" class=\"edge\">\n",
       "<title>ifmap_spad-&gt;1bit_x_1bit_mac\\n256 multicast</title>\n",
       "<path fill=\"none\" stroke=\"blue\" stroke-width=\"2\" d=\"M931.46,-346.8C955.41,-309.91 1007.96,-228.93 1035.82,-186.01\"/>\n",
       "<polygon fill=\"blue\" stroke=\"blue\" stroke-width=\"2\" points=\"1038.87,-187.74 1041.38,-177.45 1033,-183.93 1038.87,-187.74\"/>\n",
       "</g>\n",
       "<!-- weights_spad&#45;&gt;1bit_x_1bit_mac\\n256 multicast -->\n",
       "<g id=\"edge46\" class=\"edge\">\n",
       "<title>weights_spad-&gt;1bit_x_1bit_mac\\n256 multicast</title>\n",
       "<path fill=\"none\" stroke=\"green\" stroke-width=\"2\" d=\"M1098.59,-248.01C1090.18,-231.03 1077.73,-205.9 1068.12,-186.5\"/>\n",
       "<polygon fill=\"green\" stroke=\"green\" stroke-width=\"2\" points=\"1071.24,-184.91 1063.66,-177.5 1064.96,-188.02 1071.24,-184.91\"/>\n",
       "</g>\n",
       "<!-- psum_spad&#45;&gt;1bit_x_1bit_mac\\n256 multicast -->\n",
       "<g id=\"edge41\" class=\"edge\">\n",
       "<title>psum_spad-&gt;1bit_x_1bit_mac\\n256 multicast</title>\n",
       "<path fill=\"none\" stroke=\"red\" stroke-width=\"2\" d=\"M1019.58,-336.96C1027.17,-297.52 1040.66,-227.39 1048.3,-187.64\"/>\n",
       "<polygon fill=\"red\" stroke=\"red\" stroke-width=\"2\" points=\"1016.14,-336.32 1017.69,-346.8 1023.02,-337.65 1016.14,-336.32\"/>\n",
       "<polygon fill=\"red\" stroke=\"red\" stroke-width=\"2\" points=\"1051.75,-188.24 1050.2,-177.76 1044.88,-186.91 1051.75,-188.24\"/>\n",
       "</g>\n",
       "<!-- 1bit_x_1bit_mac\\n1 -->\n",
       "<g id=\"node22\" class=\"node\">\n",
       "<title>1bit_x_1bit_mac\\n1</title>\n",
       "<polygon fill=\"#ffffff\" stroke=\"black\" stroke-dasharray=\"5,2\" points=\"982.5,-68 871.5,-68 867.5,-64 867.5,-24 978.5,-24 982.5,-28 982.5,-68\"/>\n",
       "<polyline fill=\"none\" stroke=\"black\" stroke-dasharray=\"5,2\" points=\"978.5,-64 867.5,-64 \"/>\n",
       "<polyline fill=\"none\" stroke=\"black\" stroke-dasharray=\"5,2\" points=\"978.5,-64 978.5,-24 \"/>\n",
       "<polyline fill=\"none\" stroke=\"black\" stroke-dasharray=\"5,2\" points=\"978.5,-64 982.5,-68 \"/>\n",
       "<text text-anchor=\"middle\" x=\"925\" y=\"-49.8\" font-family=\"Times,serif\" font-size=\"14.00\">1bit_x_1bit_mac</text>\n",
       "<text text-anchor=\"middle\" x=\"925\" y=\"-34.8\" font-family=\"Times,serif\" font-size=\"14.00\">1</text>\n",
       "</g>\n",
       "<!-- 1bit_x_1bit_mac\\n2 -->\n",
       "<g id=\"node23\" class=\"node\">\n",
       "<title>1bit_x_1bit_mac\\n2</title>\n",
       "<polygon fill=\"#ffffff\" stroke=\"black\" stroke-dasharray=\"5,2\" points=\"1111.5,-68 1000.5,-68 996.5,-64 996.5,-24 1107.5,-24 1111.5,-28 1111.5,-68\"/>\n",
       "<polyline fill=\"none\" stroke=\"black\" stroke-dasharray=\"5,2\" points=\"1107.5,-64 996.5,-64 \"/>\n",
       "<polyline fill=\"none\" stroke=\"black\" stroke-dasharray=\"5,2\" points=\"1107.5,-64 1107.5,-24 \"/>\n",
       "<polyline fill=\"none\" stroke=\"black\" stroke-dasharray=\"5,2\" points=\"1107.5,-64 1111.5,-68 \"/>\n",
       "<text text-anchor=\"middle\" x=\"1054\" y=\"-49.8\" font-family=\"Times,serif\" font-size=\"14.00\">1bit_x_1bit_mac</text>\n",
       "<text text-anchor=\"middle\" x=\"1054\" y=\"-34.8\" font-family=\"Times,serif\" font-size=\"14.00\">2</text>\n",
       "</g>\n",
       "<!-- 1bit_x_1bit_mac\\n3... -->\n",
       "<g id=\"node24\" class=\"node\">\n",
       "<title>1bit_x_1bit_mac\\n3...</title>\n",
       "<polygon fill=\"#ffffff\" stroke=\"black\" stroke-dasharray=\"5,2\" points=\"1180,-64 1130,-64 1126,-60 1126,-28 1176,-28 1180,-32 1180,-64\"/>\n",
       "<polyline fill=\"none\" stroke=\"black\" stroke-dasharray=\"5,2\" points=\"1176,-60 1126,-60 \"/>\n",
       "<polyline fill=\"none\" stroke=\"black\" stroke-dasharray=\"5,2\" points=\"1176,-60 1176,-28 \"/>\n",
       "<polyline fill=\"none\" stroke=\"black\" stroke-dasharray=\"5,2\" points=\"1176,-60 1180,-64 \"/>\n",
       "<text text-anchor=\"middle\" x=\"1153\" y=\"-42.3\" font-family=\"Times,serif\" font-size=\"14.00\">...</text>\n",
       "</g>\n",
       "<!-- 1bit_x_1bit_mac\\n256 -->\n",
       "<g id=\"node25\" class=\"node\">\n",
       "<title>1bit_x_1bit_mac\\n256</title>\n",
       "<polygon fill=\"#ffffff\" stroke=\"black\" stroke-dasharray=\"5,2\" points=\"1309.5,-68 1198.5,-68 1194.5,-64 1194.5,-24 1305.5,-24 1309.5,-28 1309.5,-68\"/>\n",
       "<polyline fill=\"none\" stroke=\"black\" stroke-dasharray=\"5,2\" points=\"1305.5,-64 1194.5,-64 \"/>\n",
       "<polyline fill=\"none\" stroke=\"black\" stroke-dasharray=\"5,2\" points=\"1305.5,-64 1305.5,-24 \"/>\n",
       "<polyline fill=\"none\" stroke=\"black\" stroke-dasharray=\"5,2\" points=\"1305.5,-64 1309.5,-68 \"/>\n",
       "<text text-anchor=\"middle\" x=\"1252\" y=\"-49.8\" font-family=\"Times,serif\" font-size=\"14.00\">1bit_x_1bit_mac</text>\n",
       "<text text-anchor=\"middle\" x=\"1252\" y=\"-34.8\" font-family=\"Times,serif\" font-size=\"14.00\">256</text>\n",
       "</g>\n",
       "<!-- 1bit_x_1bit_mac\\n256 multicast&#45;&gt;1bit_x_1bit_mac\\n1 -->\n",
       "<g id=\"edge42\" class=\"edge\">\n",
       "<title>1bit_x_1bit_mac\\n256 multicast-&gt;1bit_x_1bit_mac\\n1</title>\n",
       "<path fill=\"none\" stroke=\"red\" stroke-width=\"2\" d=\"M1012.82,-132.25C1000.67,-122.84 987.73,-111.91 976,-102 965.68,-93.28 954.44,-83.77 944.9,-75.16\"/>\n",
       "<polygon fill=\"red\" stroke=\"red\" stroke-width=\"2\" points=\"1010.99,-135.25 1021.07,-138.5 1015.21,-129.67 1010.99,-135.25\"/>\n",
       "<polygon fill=\"red\" stroke=\"red\" stroke-width=\"2\" points=\"947.05,-72.38 937.33,-68.16 942.3,-77.52 947.05,-72.38\"/>\n",
       "</g>\n",
       "<!-- 1bit_x_1bit_mac\\n256 multicast&#45;&gt;1bit_x_1bit_mac\\n1 -->\n",
       "<g id=\"edge47\" class=\"edge\">\n",
       "<title>1bit_x_1bit_mac\\n256 multicast-&gt;1bit_x_1bit_mac\\n1</title>\n",
       "<path fill=\"none\" stroke=\"green\" stroke-width=\"2\" d=\"M1031.78,-137.26C1019.46,-126.88 1003.88,-113.73 990,-102 979.47,-93.1 967.99,-83.39 957.65,-74.64\"/>\n",
       "<polygon fill=\"green\" stroke=\"green\" stroke-width=\"2\" points=\"959.89,-71.95 949.99,-68.16 955.37,-77.3 959.89,-71.95\"/>\n",
       "</g>\n",
       "<!-- 1bit_x_1bit_mac\\n256 multicast&#45;&gt;1bit_x_1bit_mac\\n1 -->\n",
       "<g id=\"edge52\" class=\"edge\">\n",
       "<title>1bit_x_1bit_mac\\n256 multicast-&gt;1bit_x_1bit_mac\\n1</title>\n",
       "<path fill=\"none\" stroke=\"blue\" stroke-width=\"2\" d=\"M1043.37,-136.51C1032.72,-126.25 1017.55,-113.45 1004,-102 993.37,-93.02 981.77,-83.2 970.65,-74.38\"/>\n",
       "<polygon fill=\"blue\" stroke=\"blue\" stroke-width=\"2\" points=\"972.7,-71.54 962.66,-68.16 968.4,-77.07 972.7,-71.54\"/>\n",
       "</g>\n",
       "<!-- 1bit_x_1bit_mac\\n256 multicast&#45;&gt;1bit_x_1bit_mac\\n2 -->\n",
       "<g id=\"edge43\" class=\"edge\">\n",
       "<title>1bit_x_1bit_mac\\n256 multicast-&gt;1bit_x_1bit_mac\\n2</title>\n",
       "<path fill=\"none\" stroke=\"red\" stroke-width=\"2\" d=\"M1044.56,-126.58C1043.2,-111.6 1043.15,-93.38 1044.41,-78.16\"/>\n",
       "<polygon fill=\"red\" stroke=\"red\" stroke-width=\"2\" points=\"1041.08,-126.99 1045.73,-136.51 1048.03,-126.17 1041.08,-126.99\"/>\n",
       "<polygon fill=\"red\" stroke=\"red\" stroke-width=\"2\" points=\"1047.89,-78.5 1045.49,-68.18 1040.93,-77.75 1047.89,-78.5\"/>\n",
       "</g>\n",
       "<!-- 1bit_x_1bit_mac\\n256 multicast&#45;&gt;1bit_x_1bit_mac\\n2 -->\n",
       "<g id=\"edge48\" class=\"edge\">\n",
       "<title>1bit_x_1bit_mac\\n256 multicast-&gt;1bit_x_1bit_mac\\n2</title>\n",
       "<path fill=\"none\" stroke=\"green\" stroke-width=\"2\" d=\"M1054,-136.26C1054,-120.08 1054,-96.89 1054,-78.2\"/>\n",
       "<polygon fill=\"green\" stroke=\"green\" stroke-width=\"2\" points=\"1057.5,-78.08 1054,-68.08 1050.5,-78.08 1057.5,-78.08\"/>\n",
       "</g>\n",
       "<!-- 1bit_x_1bit_mac\\n256 multicast&#45;&gt;1bit_x_1bit_mac\\n2 -->\n",
       "<g id=\"edge53\" class=\"edge\">\n",
       "<title>1bit_x_1bit_mac\\n256 multicast-&gt;1bit_x_1bit_mac\\n2</title>\n",
       "<path fill=\"none\" stroke=\"blue\" stroke-width=\"2\" d=\"M1062.27,-136.51C1064.7,-120.36 1065.14,-97.1 1063.61,-78.34\"/>\n",
       "<polygon fill=\"blue\" stroke=\"blue\" stroke-width=\"2\" points=\"1067.06,-77.75 1062.51,-68.18 1060.1,-78.5 1067.06,-77.75\"/>\n",
       "</g>\n",
       "<!-- 1bit_x_1bit_mac\\n256 multicast&#45;&gt;1bit_x_1bit_mac\\n3... -->\n",
       "<g id=\"edge44\" class=\"edge\">\n",
       "<title>1bit_x_1bit_mac\\n256 multicast-&gt;1bit_x_1bit_mac\\n3...</title>\n",
       "<path fill=\"none\" stroke=\"red\" stroke-width=\"2\" d=\"M1042.86,-126.19C1044.32,-120.09 1047.28,-114.24 1052,-110 1069.71,-94.07 1085.12,-115.12 1105,-102 1115.54,-95.04 1123.38,-83.58 1130.05,-72.91\"/>\n",
       "<polygon fill=\"red\" stroke=\"red\" stroke-width=\"2\" points=\"1039.34,-126.14 1041.77,-136.46 1046.3,-126.88 1039.34,-126.14\"/>\n",
       "<polygon fill=\"red\" stroke=\"red\" stroke-width=\"2\" points=\"1133.12,-74.6 1135.41,-64.26 1127.17,-70.92 1133.12,-74.6\"/>\n",
       "</g>\n",
       "<!-- 1bit_x_1bit_mac\\n256 multicast&#45;&gt;1bit_x_1bit_mac\\n3... -->\n",
       "<g id=\"edge49\" class=\"edge\">\n",
       "<title>1bit_x_1bit_mac\\n256 multicast-&gt;1bit_x_1bit_mac\\n3...</title>\n",
       "<path fill=\"none\" stroke=\"green\" stroke-width=\"2\" d=\"M1054.33,-136.46C1055.54,-127.15 1058.64,-116.62 1066,-110 1083.71,-94.07 1099.12,-115.12 1119,-102 1129.33,-95.18 1137.07,-84.04 1142.53,-73.55\"/>\n",
       "<polygon fill=\"green\" stroke=\"green\" stroke-width=\"2\" points=\"1145.82,-74.79 1146.92,-64.26 1139.48,-71.81 1145.82,-74.79\"/>\n",
       "</g>\n",
       "<!-- 1bit_x_1bit_mac\\n256 multicast&#45;&gt;1bit_x_1bit_mac\\n3... -->\n",
       "<g id=\"edge54\" class=\"edge\">\n",
       "<title>1bit_x_1bit_mac\\n256 multicast-&gt;1bit_x_1bit_mac\\n3...</title>\n",
       "<path fill=\"none\" stroke=\"blue\" stroke-width=\"2\" d=\"M1066.89,-136.46C1069.54,-127.15 1072.64,-116.62 1080,-110 1097.71,-94.07 1113.12,-115.12 1133,-102 1143.22,-95.25 1150.91,-84.26 1155.28,-73.87\"/>\n",
       "<polygon fill=\"blue\" stroke=\"blue\" stroke-width=\"2\" points=\"1158.64,-74.85 1158.43,-64.26 1151.99,-72.67 1158.64,-74.85\"/>\n",
       "</g>\n",
       "<!-- 1bit_x_1bit_mac\\n256 multicast&#45;&gt;1bit_x_1bit_mac\\n256 -->\n",
       "<g id=\"edge45\" class=\"edge\">\n",
       "<title>1bit_x_1bit_mac\\n256 multicast-&gt;1bit_x_1bit_mac\\n256</title>\n",
       "<path fill=\"none\" stroke=\"red\" stroke-width=\"2\" d=\"M1102.69,-135.59C1124.89,-126.77 1150.9,-115.37 1173,-102 1185.74,-94.29 1198.52,-84.13 1210.19,-74.64\"/>\n",
       "<polygon fill=\"red\" stroke=\"red\" stroke-width=\"2\" points=\"1101.14,-132.44 1093.11,-139.34 1103.69,-138.96 1101.14,-132.44\"/>\n",
       "<polygon fill=\"red\" stroke=\"red\" stroke-width=\"2\" points=\"1212.53,-77.25 1218.08,-68.22 1208.11,-71.82 1212.53,-77.25\"/>\n",
       "</g>\n",
       "<!-- 1bit_x_1bit_mac\\n256 multicast&#45;&gt;1bit_x_1bit_mac\\n256 -->\n",
       "<g id=\"edge50\" class=\"edge\">\n",
       "<title>1bit_x_1bit_mac\\n256 multicast-&gt;1bit_x_1bit_mac\\n256</title>\n",
       "<path fill=\"none\" stroke=\"green\" stroke-width=\"2\" d=\"M1101.59,-140.83C1127.75,-131.48 1160.24,-118.19 1187,-102 1199.62,-94.37 1212.28,-84.33 1223.03,-74.92\"/>\n",
       "<polygon fill=\"green\" stroke=\"green\" stroke-width=\"2\" points=\"1225.38,-77.51 1230.49,-68.22 1220.71,-72.3 1225.38,-77.51\"/>\n",
       "</g>\n",
       "<!-- 1bit_x_1bit_mac\\n256 multicast&#45;&gt;1bit_x_1bit_mac\\n256 -->\n",
       "<g id=\"edge55\" class=\"edge\">\n",
       "<title>1bit_x_1bit_mac\\n256 multicast-&gt;1bit_x_1bit_mac\\n256</title>\n",
       "<path fill=\"none\" stroke=\"blue\" stroke-width=\"2\" d=\"M1108.68,-142.57C1137.59,-133.16 1172.53,-119.22 1201,-102 1213.38,-94.51 1225.79,-84.72 1235.62,-75.47\"/>\n",
       "<polygon fill=\"blue\" stroke=\"blue\" stroke-width=\"2\" points=\"1238.28,-77.76 1242.9,-68.22 1233.34,-72.8 1238.28,-77.76\"/>\n",
       "</g>\n",
       "<!-- 0 -->\n",
       "<g id=\"node27\" class=\"node\">\n",
       "<title>0</title>\n",
       "<polygon fill=\"#fdeada\" stroke=\"black\" points=\"1308,-549.89 1258,-549.89 1254,-545.89 1254,-513.89 1304,-513.89 1308,-517.89 1308,-549.89\"/>\n",
       "<polyline fill=\"none\" stroke=\"black\" points=\"1304,-545.89 1254,-545.89 \"/>\n",
       "<polyline fill=\"none\" stroke=\"black\" points=\"1304,-545.89 1304,-513.89 \"/>\n",
       "<polyline fill=\"none\" stroke=\"black\" points=\"1304,-545.89 1308,-549.89 \"/>\n",
       "<text text-anchor=\"middle\" x=\"1281\" y=\"-528.19\" font-family=\"Times,serif\" font-size=\"14.00\">From</text>\n",
       "</g>\n",
       "<!-- 1 -->\n",
       "<g id=\"node28\" class=\"node\">\n",
       "<title>1</title>\n",
       "<polygon fill=\"#fdeada\" stroke=\"black\" points=\"1164,-549.89 1114,-549.89 1110,-545.89 1110,-513.89 1160,-513.89 1164,-517.89 1164,-549.89\"/>\n",
       "<polyline fill=\"none\" stroke=\"black\" points=\"1160,-545.89 1110,-545.89 \"/>\n",
       "<polyline fill=\"none\" stroke=\"black\" points=\"1160,-545.89 1160,-513.89 \"/>\n",
       "<polyline fill=\"none\" stroke=\"black\" points=\"1160,-545.89 1164,-549.89 \"/>\n",
       "<text text-anchor=\"middle\" x=\"1137\" y=\"-528.19\" font-family=\"Times,serif\" font-size=\"14.00\">To</text>\n",
       "</g>\n",
       "<!-- 0&#45;&gt;1 -->\n",
       "<g id=\"edge56\" class=\"edge\">\n",
       "<title>0-&gt;1</title>\n",
       "<path fill=\"none\" stroke=\"blue\" stroke-width=\"2\" d=\"M1253.55,-531.89C1231.06,-531.89 1199.02,-531.89 1174.22,-531.89\"/>\n",
       "<polygon fill=\"blue\" stroke=\"blue\" stroke-width=\"2\" points=\"1174.09,-528.39 1164.09,-531.89 1174.09,-535.39 1174.09,-528.39\"/>\n",
       "<text text-anchor=\"middle\" x=\"1209\" y=\"-553.69\" font-family=\"Times,serif\" font-size=\"14.00\">Inputs</text>\n",
       "<text text-anchor=\"middle\" x=\"1209\" y=\"-538.69\" font-family=\"Times,serif\" font-size=\"14.00\">Movement</text>\n",
       "</g>\n",
       "<!-- 2 -->\n",
       "<g id=\"node29\" class=\"node\">\n",
       "<title>2</title>\n",
       "<polygon fill=\"#fdeada\" stroke=\"black\" points=\"1096,-549.89 1046,-549.89 1042,-545.89 1042,-513.89 1092,-513.89 1096,-517.89 1096,-549.89\"/>\n",
       "<polyline fill=\"none\" stroke=\"black\" points=\"1092,-545.89 1042,-545.89 \"/>\n",
       "<polyline fill=\"none\" stroke=\"black\" points=\"1092,-545.89 1092,-513.89 \"/>\n",
       "<polyline fill=\"none\" stroke=\"black\" points=\"1092,-545.89 1096,-549.89 \"/>\n",
       "<text text-anchor=\"middle\" x=\"1069\" y=\"-528.19\" font-family=\"Times,serif\" font-size=\"14.00\">From</text>\n",
       "</g>\n",
       "<!-- 3 -->\n",
       "<g id=\"node30\" class=\"node\">\n",
       "<title>3</title>\n",
       "<polygon fill=\"#fdeada\" stroke=\"black\" points=\"952,-549.89 902,-549.89 898,-545.89 898,-513.89 948,-513.89 952,-517.89 952,-549.89\"/>\n",
       "<polyline fill=\"none\" stroke=\"black\" points=\"948,-545.89 898,-545.89 \"/>\n",
       "<polyline fill=\"none\" stroke=\"black\" points=\"948,-545.89 948,-513.89 \"/>\n",
       "<polyline fill=\"none\" stroke=\"black\" points=\"948,-545.89 952,-549.89 \"/>\n",
       "<text text-anchor=\"middle\" x=\"925\" y=\"-528.19\" font-family=\"Times,serif\" font-size=\"14.00\">To</text>\n",
       "</g>\n",
       "<!-- 2&#45;&gt;3 -->\n",
       "<g id=\"edge57\" class=\"edge\">\n",
       "<title>2-&gt;3</title>\n",
       "<path fill=\"none\" stroke=\"green\" stroke-width=\"2\" d=\"M1041.55,-531.89C1019.06,-531.89 987.02,-531.89 962.22,-531.89\"/>\n",
       "<polygon fill=\"green\" stroke=\"green\" stroke-width=\"2\" points=\"962.09,-528.39 952.09,-531.89 962.09,-535.39 962.09,-528.39\"/>\n",
       "<text text-anchor=\"middle\" x=\"997\" y=\"-553.69\" font-family=\"Times,serif\" font-size=\"14.00\">Weights</text>\n",
       "<text text-anchor=\"middle\" x=\"997\" y=\"-538.69\" font-family=\"Times,serif\" font-size=\"14.00\">Movement</text>\n",
       "</g>\n",
       "<!-- 4 -->\n",
       "<g id=\"node31\" class=\"node\">\n",
       "<title>4</title>\n",
       "<polygon fill=\"#fdeada\" stroke=\"black\" points=\"884,-549.89 834,-549.89 830,-545.89 830,-513.89 880,-513.89 884,-517.89 884,-549.89\"/>\n",
       "<polyline fill=\"none\" stroke=\"black\" points=\"880,-545.89 830,-545.89 \"/>\n",
       "<polyline fill=\"none\" stroke=\"black\" points=\"880,-545.89 880,-513.89 \"/>\n",
       "<polyline fill=\"none\" stroke=\"black\" points=\"880,-545.89 884,-549.89 \"/>\n",
       "<text text-anchor=\"middle\" x=\"857\" y=\"-528.19\" font-family=\"Times,serif\" font-size=\"14.00\">From</text>\n",
       "</g>\n",
       "<!-- 5 -->\n",
       "<g id=\"node32\" class=\"node\">\n",
       "<title>5</title>\n",
       "<polygon fill=\"#fdeada\" stroke=\"black\" points=\"740,-549.89 690,-549.89 686,-545.89 686,-513.89 736,-513.89 740,-517.89 740,-549.89\"/>\n",
       "<polyline fill=\"none\" stroke=\"black\" points=\"736,-545.89 686,-545.89 \"/>\n",
       "<polyline fill=\"none\" stroke=\"black\" points=\"736,-545.89 736,-513.89 \"/>\n",
       "<polyline fill=\"none\" stroke=\"black\" points=\"736,-545.89 740,-549.89 \"/>\n",
       "<text text-anchor=\"middle\" x=\"713\" y=\"-528.19\" font-family=\"Times,serif\" font-size=\"14.00\">To</text>\n",
       "</g>\n",
       "<!-- 4&#45;&gt;5 -->\n",
       "<g id=\"edge58\" class=\"edge\">\n",
       "<title>4-&gt;5</title>\n",
       "<path fill=\"none\" stroke=\"red\" stroke-width=\"2\" d=\"M819.54,-531.89C798.19,-531.89 771.53,-531.89 750.22,-531.89\"/>\n",
       "<polygon fill=\"red\" stroke=\"red\" stroke-width=\"2\" points=\"819.55,-535.39 829.55,-531.89 819.55,-528.39 819.55,-535.39\"/>\n",
       "<polygon fill=\"red\" stroke=\"red\" stroke-width=\"2\" points=\"750.09,-528.39 740.09,-531.89 750.09,-535.39 750.09,-528.39\"/>\n",
       "<text text-anchor=\"middle\" x=\"785\" y=\"-553.69\" font-family=\"Times,serif\" font-size=\"14.00\">Outputs</text>\n",
       "<text text-anchor=\"middle\" x=\"785\" y=\"-538.69\" font-family=\"Times,serif\" font-size=\"14.00\">Movement</text>\n",
       "</g>\n",
       "<!-- Storage -->\n",
       "<g id=\"node33\" class=\"node\">\n",
       "<title>Storage</title>\n",
       "<path fill=\"#fdeada\" stroke=\"black\" d=\"M661.5,-548.15C661.5,-550.14 648.73,-551.76 633,-551.76 617.27,-551.76 604.5,-550.14 604.5,-548.15 604.5,-548.15 604.5,-515.63 604.5,-515.63 604.5,-513.63 617.27,-512.01 633,-512.01 648.73,-512.01 661.5,-513.63 661.5,-515.63 661.5,-515.63 661.5,-548.15 661.5,-548.15\"/>\n",
       "<path fill=\"none\" stroke=\"black\" d=\"M661.5,-548.15C661.5,-546.15 648.73,-544.54 633,-544.54 617.27,-544.54 604.5,-546.15 604.5,-548.15\"/>\n",
       "<text text-anchor=\"middle\" x=\"633\" y=\"-528.19\" font-family=\"Times,serif\" font-size=\"14.00\">Storage</text>\n",
       "</g>\n",
       "<!-- Container -->\n",
       "<g id=\"node34\" class=\"node\">\n",
       "<title>Container</title>\n",
       "<polygon fill=\"#ffffff\" stroke=\"black\" stroke-dasharray=\"5,2\" points=\"590.5,-549.89 523.5,-549.89 519.5,-545.89 519.5,-513.89 586.5,-513.89 590.5,-517.89 590.5,-549.89\"/>\n",
       "<polyline fill=\"none\" stroke=\"black\" stroke-dasharray=\"5,2\" points=\"586.5,-545.89 519.5,-545.89 \"/>\n",
       "<polyline fill=\"none\" stroke=\"black\" stroke-dasharray=\"5,2\" points=\"586.5,-545.89 586.5,-513.89 \"/>\n",
       "<polyline fill=\"none\" stroke=\"black\" stroke-dasharray=\"5,2\" points=\"586.5,-545.89 590.5,-549.89 \"/>\n",
       "<text text-anchor=\"middle\" x=\"555\" y=\"-528.19\" font-family=\"Times,serif\" font-size=\"14.00\">Container</text>\n",
       "</g>\n",
       "<!-- Other Component -->\n",
       "<g id=\"node35\" class=\"node\">\n",
       "<title>Other Component</title>\n",
       "<polygon fill=\"#fdeada\" stroke=\"black\" points=\"505,-549.89 381,-549.89 377,-545.89 377,-513.89 501,-513.89 505,-517.89 505,-549.89\"/>\n",
       "<polyline fill=\"none\" stroke=\"black\" points=\"501,-545.89 377,-545.89 \"/>\n",
       "<polyline fill=\"none\" stroke=\"black\" points=\"501,-545.89 501,-513.89 \"/>\n",
       "<polyline fill=\"none\" stroke=\"black\" points=\"501,-545.89 505,-549.89 \"/>\n",
       "<text text-anchor=\"middle\" x=\"441\" y=\"-528.19\" font-family=\"Times,serif\" font-size=\"14.00\">Other Component</text>\n",
       "</g>\n",
       "<!-- Network -->\n",
       "<g id=\"node36\" class=\"node\">\n",
       "<title>Network</title>\n",
       "<ellipse fill=\"#ffffff\" stroke=\"black\" cx=\"319\" cy=\"-531.89\" rx=\"43.68\" ry=\"20.51\"/>\n",
       "<text text-anchor=\"middle\" x=\"319\" y=\"-528.19\" font-family=\"Times,serif\" font-size=\"14.00\">Network</text>\n",
       "</g>\n",
       "<!-- Network&#45;&gt;DRAM -->\n",
       "<!-- Network&#45;&gt;From outside eyeriss... -->\n",
       "<!-- Network&#45;&gt;From outside PE_column... -->\n",
       "<!-- Network&#45;&gt;From outside PE... -->\n",
       "</g>\n",
       "</g>\n",
       "  </g>\n",
       "</svg>"
      ],
      "text/plain": [
       "<IPython.core.display.SVG object>"
      ]
     },
     "metadata": {},
     "output_type": "display_data"
    }
   ],
   "source": [
    "from _tests import scripts\n",
    "from scripts.notebook_utils import *\n",
    "from matplotlib import pyplot as plt\n",
    "\n",
    "display_markdown(\n",
    "    f\"\"\"\n",
    "This is an example digital architecture based on Eyeriss by Yu-Hsin Chen, Tushar\n",
    "Krishna, Joel Emer, and Vivienne Sze.\n",
    "\n",
    "{get_important_variables_markdown('nestquant')}\n",
    "\n",
    "Components are defined the following places:\n",
    "- workspace/models/arch/1_macro/example_traditional/example_components/components.csv\n",
    "- workspace/models/arch/1_macro/example_traditional/components.yaml\n",
    "- The top-level components locations\n",
    "  - workspace/models/components/components/*.yaml\n",
    "  - workspace/models/components/components/accelergy_plug_ins/*.py\n",
    "  \n",
    "Place new components in any of these places!\n",
    "\n",
    "\"\"\"\n",
    ")\n",
    "display_diagram(get_diagram(\"nestquant\", ignore=DIAGRAM_DEFAULT_IGNORE))"
   ]
  },
  {
   "cell_type": "code",
   "execution_count": 14,
   "metadata": {},
   "outputs": [
    {
     "data": {
      "text/markdown": [
       "\n",
       "   ### Area and energy breakdown\n",
       "   This example architecture doesn't have a suite of tests, but you may\n",
       "   look at the other example architectures for inspiration.        \n",
       "   "
      ],
      "text/plain": [
       "<IPython.core.display.Markdown object>"
      ]
     },
     "metadata": {},
     "output_type": "display_data"
    },
    {
     "name": "stdout",
     "output_type": "stream",
     "text": [
      "Running on layer /home/workspace/models/workloads/llm/gemm.yaml\n"
     ]
    }
   ],
   "source": [
    "result = run_test(\"nestquant\", \"test_area_energy_breakdown\")"
   ]
  },
  {
   "cell_type": "code",
   "execution_count": 15,
   "metadata": {},
   "outputs": [
    {
     "data": {
      "image/png": "[encoded data removed]",
      "text/plain": [
       "<Figure size 2000x500 with 2 Axes>"
      ]
     },
     "metadata": {},
     "output_type": "display_data"
    }
   ],
   "source": [
    "fig, axs = plt.subplots(1, 2, figsize=(20, 5))\n",
    "bar_stacked(\n",
    "    {f\"Speculation {r.variables['QUANTIZE']}\": r.per_component_energy for r in [result]},\n",
    "    ylabel=\"Energy (J)\",\n",
    "    title=f\"Energy Breakdown\",\n",
    "    ax=axs[0]\n",
    ")\n",
    "bar_stacked(\n",
    "    {f\"Speculation {r.variables['QUANTIZE']}\": r.per_component_area for r in [result]},\n",
    "    ylabel=\"Area (m^2)\",\n",
    "    title=f\"Area Breakdown\",\n",
    "    ax=axs[1]\n",
    ")"
   ]
  },
  {
   "cell_type": "code",
   "execution_count": 16,
   "metadata": {},
   "outputs": [
    {
     "data": {
      "text/plain": [
       "0.027267888368844802"
      ]
     },
     "execution_count": 16,
     "metadata": {},
     "output_type": "execute_result"
    }
   ],
   "source": [
    "result.per_component_energy[\"mac\"]"
   ]
  },
  {
   "cell_type": "code",
   "execution_count": 9,
   "metadata": {},
   "outputs": [
    {
     "data": {
      "text/plain": [
       "{'mac': 3.1744000000000003e-12,\n",
       " 'psum_spad': 4.633600000000001e-13,\n",
       " 'weights_spad': 1.18784e-12,\n",
       " 'ifmap_spad': 2.28864e-13,\n",
       " 'weight_quantize': 4.0704e-15,\n",
       " 'shared_glb': 2.3244800000000002e-12,\n",
       " 'DRAM': 6.4e-13}"
      ]
     },
     "execution_count": 9,
     "metadata": {},
     "output_type": "execute_result"
    }
   ],
   "source": [
    "result.per_compute(\"per_component_energy\")"
   ]
  },
  {
   "cell_type": "code",
   "execution_count": 7,
   "metadata": {},
   "outputs": [
    {
     "data": {
      "text/plain": [
       "{'mac': 9.996799999999998e-13,\n",
       " 'psum_spad': 5.247999999999998e-13,\n",
       " 'weights_spad': 1.25056e-12,\n",
       " 'ifmap_spad': 3.2895999999999994e-13,\n",
       " 'weight_quantize': 6.2464e-13,\n",
       " 'shared_glb': 3.8143999999999996e-12,\n",
       " 'DRAM': 5.4912e-11}"
      ]
     },
     "execution_count": 7,
     "metadata": {},
     "output_type": "execute_result"
    }
   ],
   "source": [
    "result[0].per_compute('per_component_energy') ENCODED_WEIGHT_BITS=2 ; Q at PE level"
   ]
  },
  {
   "cell_type": "code",
   "execution_count": 9,
   "metadata": {},
   "outputs": [
    {
     "data": {
      "text/plain": [
       "{'mac': 1.00096e-12,\n",
       " 'psum_spad': 5.247999999999998e-13,\n",
       " 'weights_spad': 2.50112e-12,\n",
       " 'ifmap_spad': 3.2768e-13,\n",
       " 'weight_quantize': 6.2464e-13,\n",
       " 'shared_glb': 3.8143999999999996e-12,\n",
       " 'DRAM': 6.8608e-11}"
      ]
     },
     "execution_count": 9,
     "metadata": {},
     "output_type": "execute_result"
    }
   ],
   "source": [
    "result[0].per_compute('per_component_energy') ENCODED_WEIGHT_BITS=4 ; Q at PE level"
   ]
  },
  {
   "cell_type": "code",
   "execution_count": 11,
   "metadata": {},
   "outputs": [
    {
     "data": {
      "text/plain": [
       "{'mac': 9.984e-13,\n",
       " 'psum_spad': 5.2736e-13,\n",
       " 'weights_spad': 5.00224e-12,\n",
       " 'ifmap_spad': 3.28704e-13,\n",
       " 'weight_quantize': 1.24928e-12,\n",
       " 'shared_glb': 3.8143999999999996e-12,\n",
       " 'DRAM': 1.00352e-10}"
      ]
     },
     "execution_count": 11,
     "metadata": {},
     "output_type": "execute_result"
    }
   ],
   "source": [
    "result[0].per_compute('per_component_energy') ENCODED_WEIGHT_BITS=8 ; Q at PE level"
   ]
  },
  {
   "cell_type": "code",
   "execution_count": 27,
   "metadata": {},
   "outputs": [
    {
     "data": {
      "text/plain": [
       "{'mac': 9.996799999999998e-13,\n",
       " 'psum_spad': 5.247999999999998e-13,\n",
       " 'weights_spad': 1.25056e-12,\n",
       " 'ifmap_spad': 3.2895999999999994e-13,\n",
       " 'shared_glb': 3.8143999999999996e-12,\n",
       " 'weight_quantize': 3.1232e-13,\n",
       " 'DRAM': 5.4912e-11}"
      ]
     },
     "execution_count": 27,
     "metadata": {},
     "output_type": "execute_result"
    }
   ],
   "source": [
    "result[0].per_compute('per_component_energy') ENCODED_WEIGHT_BITS=2 ; Q before shared_glb"
   ]
  },
  {
   "cell_type": "code",
   "execution_count": 24,
   "metadata": {},
   "outputs": [
    {
     "data": {
      "text/plain": [
       "{'mac': 1.00096e-12,\n",
       " 'psum_spad': 5.247999999999998e-13,\n",
       " 'weights_spad': 2.50112e-12,\n",
       " 'ifmap_spad': 3.2768e-13,\n",
       " 'shared_glb': 3.8143999999999996e-12,\n",
       " 'weight_quantize': 6.2464e-13,\n",
       " 'DRAM': 6.8608e-11}"
      ]
     },
     "execution_count": 24,
     "metadata": {},
     "output_type": "execute_result"
    }
   ],
   "source": [
    "result[0].per_compute('per_component_energy') ENCODED_WEIGHT_BITS=4 ; Q before shared_glb"
   ]
  },
  {
   "cell_type": "code",
   "execution_count": 29,
   "metadata": {},
   "outputs": [
    {
     "data": {
      "text/plain": [
       "{'mac': 9.984e-13,\n",
       " 'psum_spad': 5.2736e-13,\n",
       " 'weights_spad': 5.00224e-12,\n",
       " 'ifmap_spad': 3.28704e-13,\n",
       " 'shared_glb': 3.8143999999999996e-12,\n",
       " 'weight_quantize': 1.24928e-12,\n",
       " 'DRAM': 1.00352e-10}"
      ]
     },
     "execution_count": 29,
     "metadata": {},
     "output_type": "execute_result"
    }
   ],
   "source": [
    "result[0].per_compute('per_component_energy') ENCODED_WEIGHT_BITS=8 ; Q before shared_glb"
   ]
  },
  {
   "cell_type": "code",
   "execution_count": 30,
   "metadata": {},
   "outputs": [
    {
     "data": {
      "text/plain": [
       "{'weight_quantize': 1.0535714285714286e-11,\n",
       " 'weights_spad': 2e-08,\n",
       " 'mac': 9.999974399999999e-09,\n",
       " 'shared_glb': 8.006964285714285e-09,\n",
       " 'ifmap_spad': 3.03404e-10,\n",
       " 'psum_spad': 3.7217200000000004e-10}"
      ]
     },
     "execution_count": 30,
     "metadata": {},
     "output_type": "execute_result"
    }
   ],
   "source": [
    "result[0].per_compute('per_component_area')"
   ]
  },
  {
   "cell_type": "code",
   "execution_count": 33,
   "metadata": {},
   "outputs": [
    {
     "data": {
      "text/plain": [
       "{'mac': 9.984e-13,\n",
       " 'psum_spad': 5.2736e-13,\n",
       " 'weights_spad': 5.00224e-12,\n",
       " 'ifmap_spad': 3.28704e-13,\n",
       " 'shared_glb': 3.8143999999999996e-12,\n",
       " 'weight_quantize': 1.24928e-12,\n",
       " 'DRAM': 1.00352e-10}"
      ]
     },
     "execution_count": 33,
     "metadata": {},
     "output_type": "execute_result"
    }
   ],
   "source": [
    "result[0].per_compute('per_component_energy')"
   ]
  },
  {
   "cell_type": "code",
   "execution_count": 35,
   "metadata": {},
   "outputs": [
    {
     "data": {
      "text/plain": [
       "{'mac': 9.984e-13,\n",
       " 'psum_spad': 5.2736e-13,\n",
       " 'weights_spad': 5.00224e-12,\n",
       " 'ifmap_spad': 3.28704e-13,\n",
       " 'shared_glb': 3.8143999999999996e-12,\n",
       " 'weight_quantize': 1.24928e-10,\n",
       " 'DRAM': 1.00352e-10}"
      ]
     },
     "execution_count": 35,
     "metadata": {},
     "output_type": "execute_result"
    }
   ],
   "source": [
    "result[0].per_compute('per_component_energy')"
   ]
  },
  {
   "cell_type": "code",
   "execution_count": 43,
   "metadata": {},
   "outputs": [
    {
     "data": {
      "text/plain": [
       "{'mac': 9.984e-13,\n",
       " 'psum_spad': 5.2736e-13,\n",
       " 'weights_spad': 5.00224e-12,\n",
       " 'ifmap_spad': 3.28704e-13,\n",
       " 'shared_glb': 3.8143999999999996e-12,\n",
       " 'weight_quantize': 1.24928e-12,\n",
       " 'DRAM': 1.00352e-10}"
      ]
     },
     "execution_count": 43,
     "metadata": {},
     "output_type": "execute_result"
    }
   ],
   "source": [
    "result[0].per_compute('per_component_energy')"
   ]
  },
  {
   "cell_type": "code",
   "execution_count": 49,
   "metadata": {},
   "outputs": [
    {
     "data": {
      "text/plain": [
       "{'mac': 1.00096e-12,\n",
       " 'psum_spad': 6.476799999999999e-13,\n",
       " 'weights_spad': 1.024e-12,\n",
       " 'ifmap_spad': 3.2768e-13,\n",
       " 'shared_glb': 1.0368e-11,\n",
       " 'weight_quantize': 9.7536e-15,\n",
       " 'DRAM': 3.3536e-11}"
      ]
     },
     "execution_count": 49,
     "metadata": {},
     "output_type": "execute_result"
    }
   ],
   "source": [
    "result[0].per_compute('per_component_energy') with dummy"
   ]
  },
  {
   "cell_type": "code",
   "execution_count": 52,
   "metadata": {},
   "outputs": [
    {
     "data": {
      "text/plain": [
       "{'mac': 1.00096e-12,\n",
       " 'psum_spad': 4.6336e-13,\n",
       " 'weights_spad': 1.00096e-12,\n",
       " 'ifmap_spad': 3.2768e-13,\n",
       " 'shared_glb': 3.4560000000000002e-12,\n",
       " 'weight_quantize': 3.0464000000000006e-16,\n",
       " 'DRAM': 2.0582400000000004e-11}"
      ]
     },
     "execution_count": 52,
     "metadata": {},
     "output_type": "execute_result"
    }
   ],
   "source": [
    "result[0].per_compute('per_component_energy') before sgb w/o dummy"
   ]
  },
  {
   "cell_type": "code",
   "execution_count": 56,
   "metadata": {},
   "outputs": [
    {
     "data": {
      "text/plain": [
       "{'mac': 1.00096e-12,\n",
       " 'psum_spad': 4.6336e-13,\n",
       " 'weights_spad': 1.00096e-12,\n",
       " 'ifmap_spad': 3.2768e-13,\n",
       " 'weight_quantize': 6.092800000000001e-16,\n",
       " 'shared_glb': 3.4560000000000002e-12,\n",
       " 'DRAM': 2.0582400000000004e-11}"
      ]
     },
     "execution_count": 56,
     "metadata": {},
     "output_type": "execute_result"
    }
   ],
   "source": [
    "result[0].per_compute('per_component_energy') at PE level"
   ]
  },
  {
   "cell_type": "code",
   "execution_count": 59,
   "metadata": {},
   "outputs": [
    {
     "data": {
      "text/plain": [
       "{'mac': 1.00096e-12,\n",
       " 'psum_spad': 4.633600000000001e-13,\n",
       " 'weights_spad': 1.18784e-12,\n",
       " 'ifmap_spad': 2.28864e-13,\n",
       " 'weight_quantize': 7.808e-14,\n",
       " 'shared_glb': 2.3244800000000002e-12,\n",
       " 'DRAM': 6.4e-13}"
      ]
     },
     "execution_count": 59,
     "metadata": {},
     "output_type": "execute_result"
    }
   ],
   "source": [
    "result[0].per_compute('per_component_energy') "
   ]
  },
  {
   "cell_type": "code",
   "execution_count": 4,
   "metadata": {},
   "outputs": [
    {
     "data": {
      "text/plain": [
       "{'weight_quantize': 1.3216e-07,\n",
       " 'weights_spad': 2.24e-06,\n",
       " 'mac': 1.7774403584000003e-07,\n",
       " 'shared_glb': 8.9678e-07,\n",
       " 'ifmap_spad': 3.3981248e-08,\n",
       " 'psum_spad': 4.1683264e-08}"
      ]
     },
     "execution_count": 4,
     "metadata": {},
     "output_type": "execute_result"
    }
   ],
   "source": [
    "result[1].per_component_area "
   ]
  },
  {
   "cell_type": "code",
   "execution_count": null,
   "metadata": {},
   "outputs": [],
   "source": []
  }
 ],
 "metadata": {
  "kernelspec": {
   "display_name": "Python 3 (ipykernel)",
   "language": "python",
   "name": "python3"
  },
  "language_info": {
   "codemirror_mode": {
    "name": "ipython",
    "version": 3
   },
   "file_extension": ".py",
   "mimetype": "text/x-python",
   "name": "python",
   "nbconvert_exporter": "python",
   "pygments_lexer": "ipython3",
   "version": "3.10.12"
  }
 },
 "nbformat": 4,
 "nbformat_minor": 4
}
